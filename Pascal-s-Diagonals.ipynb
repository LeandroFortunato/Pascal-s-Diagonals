{
 "cells": [
  {
   "cell_type": "code",
   "execution_count": null,
   "id": "06f8e709",
   "metadata": {},
   "outputs": [],
   "source": [
    "def generate_diagonal(n, l):\n",
    "    n=0 if l==0 else n\n",
    "    diagonalSize = n + l \n",
    "    mainArray = [[1]*(diagonalSize)]  # first row\n",
    "\n",
    "    for row in range(diagonalSize-1,0,-1):\n",
    "        mainArray.append([1]*row)\n",
    "        for i in range(row-1):\n",
    "            mainArray[diagonalSize-row][i+1] = mainArray[diagonalSize-row][i]+mainArray[diagonalSize-row-1][i+1]\n",
    "\n",
    "    return mainArray[n]"
   ]
  }
 ],
 "metadata": {
  "kernelspec": {
   "display_name": "Python 3 (ipykernel)",
   "language": "python",
   "name": "python3"
  },
  "language_info": {
   "codemirror_mode": {
    "name": "ipython",
    "version": 3
   },
   "file_extension": ".py",
   "mimetype": "text/x-python",
   "name": "python",
   "nbconvert_exporter": "python",
   "pygments_lexer": "ipython3",
   "version": "3.9.7"
  }
 },
 "nbformat": 4,
 "nbformat_minor": 5
}
